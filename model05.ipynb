{
 "cells": [
  {
   "cell_type": "code",
   "execution_count": 1,
   "id": "clinical-suspect",
   "metadata": {},
   "outputs": [],
   "source": [
    "import pickle\n",
    "from keras.models import Sequential\n",
    "from keras.layers import Conv2D, MaxPooling2D, Flatten, Dense, Dropout\n",
    "from keras.layers.normalization import BatchNormalization\n",
    "from sklearn.model_selection import train_test_split\n",
    "from sklearn.metrics import confusion_matrix\n",
    "from sklearn.metrics import accuracy_score\n",
    "import tensorflow as tf\n",
    "import tensorflow_model_optimization as tfmot\n",
    "import numpy as np\n",
    "import tempfile\n",
    "import os\n",
    "import zipfile\n",
    "from matplotlib import pyplot as plt\n",
    "from keras.callbacks import EarlyStopping\n",
    "from keras.callbacks import ModelCheckpoint"
   ]
  },
  {
   "cell_type": "code",
   "execution_count": 2,
   "id": "supported-charge",
   "metadata": {},
   "outputs": [],
   "source": [
    "#importando a base de dados\n",
    "data = pickle.load(open(\"data/all.pkl\", \"rb\"))\n",
    "images = data[\"images\"]\n",
    "label = data[\"targets\"]"
   ]
  },
  {
   "cell_type": "code",
   "execution_count": 3,
   "id": "norman-pension",
   "metadata": {},
   "outputs": [],
   "source": [
    "#separando treino, teste e validação\n",
    "x_train, x_test, y_train, y_test = train_test_split(images, label, test_size=0.3)\n",
    "x_test, x_valid, y_test, y_valid = train_test_split(x_test, y_test, test_size=0.5)"
   ]
  },
  {
   "cell_type": "code",
   "execution_count": 4,
   "id": "damaged-glance",
   "metadata": {},
   "outputs": [],
   "source": [
    "#convertendo o formato de NCHW para NHWC\n",
    "x_train = x_train.reshape((x_train.shape[0], x_train.shape[3], x_train.shape[2], x_train.shape[1]))\n",
    "x_valid = x_valid.reshape((x_valid.shape[0], x_valid.shape[3], x_valid.shape[2], x_valid.shape[1]))\n",
    "x_test= x_test.reshape((x_test.shape[0], x_test.shape[3], x_test.shape[2], x_test.shape[1]))"
   ]
  },
  {
   "cell_type": "code",
   "execution_count": 5,
   "id": "sorted-camera",
   "metadata": {},
   "outputs": [],
   "source": [
    "#definindo parâmetros da parada antecipada\n",
    "es = EarlyStopping(monitor='val_loss', mode='min', verbose=1, patience=3)\n",
    "mc = ModelCheckpoint('best_model.h5', monitor='val_accuracy', mode='max', verbose=1, save_best_only=True)"
   ]
  },
  {
   "cell_type": "code",
   "execution_count": 6,
   "id": "experienced-place",
   "metadata": {},
   "outputs": [],
   "source": [
    "model = Sequential()  \n",
    "    \n",
    "model.add(Conv2D(64, (3,3), input_shape = (51, 51, 3), activation = 'relu'))\n",
    "model.add(BatchNormalization())\n",
    "model.add(MaxPooling2D(pool_size = (2,2), data_format='channels_last'))\n",
    "\n",
    "model.add(Flatten())\n",
    "    \n",
    "model.add(Dense(units = 128, activation = 'relu'))\n",
    "model.add(Dropout(0.2)) \n",
    "\n",
    "model.add(Dense(units = 1, activation = 'sigmoid'))\n",
    "    \n",
    "model.compile(optimizer = 'adam', loss='binary_crossentropy', metrics = ['accuracy'])"
   ]
  },
  {
   "cell_type": "code",
   "execution_count": 7,
   "id": "swedish-grant",
   "metadata": {},
   "outputs": [
    {
     "name": "stdout",
     "output_type": "stream",
     "text": [
      "Epoch 1/30\n",
      "4892/4892 [==============================] - 1491s 303ms/step - loss: 0.3694 - accuracy: 0.9205 - val_loss: 0.1332 - val_accuracy: 0.9532\n",
      "\n",
      "Epoch 00001: val_accuracy improved from -inf to 0.95319, saving model to best_model.h5\n",
      "Epoch 2/30\n",
      "4892/4892 [==============================] - 1422s 291ms/step - loss: 0.1348 - accuracy: 0.9515 - val_loss: 0.1188 - val_accuracy: 0.9572\n",
      "\n",
      "Epoch 00002: val_accuracy improved from 0.95319 to 0.95719, saving model to best_model.h5\n",
      "Epoch 3/30\n",
      "4892/4892 [==============================] - 1434s 293ms/step - loss: 0.1224 - accuracy: 0.9565 - val_loss: 0.1249 - val_accuracy: 0.9570\n",
      "\n",
      "Epoch 00003: val_accuracy did not improve from 0.95719\n",
      "Epoch 4/30\n",
      "4892/4892 [==============================] - 1414s 289ms/step - loss: 0.1149 - accuracy: 0.9589 - val_loss: 0.1173 - val_accuracy: 0.9590\n",
      "\n",
      "Epoch 00004: val_accuracy improved from 0.95719 to 0.95899, saving model to best_model.h5\n",
      "Epoch 5/30\n",
      "4892/4892 [==============================] - 1387s 283ms/step - loss: 0.1069 - accuracy: 0.9623 - val_loss: 0.1196 - val_accuracy: 0.9588\n",
      "\n",
      "Epoch 00005: val_accuracy did not improve from 0.95899\n",
      "Epoch 6/30\n",
      "4892/4892 [==============================] - 1410s 288ms/step - loss: 0.1017 - accuracy: 0.9638 - val_loss: 0.1160 - val_accuracy: 0.9610\n",
      "\n",
      "Epoch 00006: val_accuracy improved from 0.95899 to 0.96098, saving model to best_model.h5\n",
      "Epoch 7/30\n",
      "4892/4892 [==============================] - 1412s 289ms/step - loss: 0.0968 - accuracy: 0.9654 - val_loss: 0.1254 - val_accuracy: 0.9587\n",
      "\n",
      "Epoch 00007: val_accuracy did not improve from 0.96098\n",
      "Epoch 8/30\n",
      "4892/4892 [==============================] - 1411s 288ms/step - loss: 0.0917 - accuracy: 0.9670 - val_loss: 0.1235 - val_accuracy: 0.9597\n",
      "\n",
      "Epoch 00008: val_accuracy did not improve from 0.96098\n",
      "Epoch 9/30\n",
      "4892/4892 [==============================] - 1412s 289ms/step - loss: 0.0885 - accuracy: 0.9676 - val_loss: 0.1349 - val_accuracy: 0.9588\n",
      "\n",
      "Epoch 00009: val_accuracy did not improve from 0.96098\n",
      "Epoch 00009: early stopping\n"
     ]
    }
   ],
   "source": [
    "history = model.fit(x_train, y_train, epochs = 30, batch_size = 128, validation_data = (x_valid, y_valid),  callbacks=[es, mc])"
   ]
  },
  {
   "cell_type": "code",
   "execution_count": 8,
   "id": "bacterial-rental",
   "metadata": {},
   "outputs": [
    {
     "data": {
      "image/png": "[encoded data removed]",
      "text/plain": [
       "<Figure size 432x288 with 1 Axes>"
      ]
     },
     "metadata": {
      "needs_background": "light"
     },
     "output_type": "display_data"
    }
   ],
   "source": [
    "plt.figure()\n",
    "plt.plot(np.arange(0,9), history.history[\"loss\"], label=\"train_loss\")\n",
    "plt.plot(np.arange(0,9), history.history[\"val_loss\"], label=\"val_loss\")\n",
    "plt.plot(np.arange(0,9), history.history[\"accuracy\"], label=\"train_acc\")\n",
    "plt.plot(np.arange(0,9), history.history[\"val_accuracy\"], label=\"val_acc\")\n",
    "plt.title(\"Treino\")\n",
    "plt.xlabel(\"Epoch\")\n",
    "plt.ylabel(\"Loss/Accuracy\")\n",
    "plt.legend()\n",
    "plt.savefig('cnn.png', bbox_inches='tight')"
   ]
  },
  {
   "cell_type": "code",
   "execution_count": 9,
   "id": "powerful-subdivision",
   "metadata": {},
   "outputs": [],
   "source": [
    "predictions_model = model.predict(x_test)\n",
    "predictions_model = (predictions_model>0.5)"
   ]
  },
  {
   "cell_type": "code",
   "execution_count": 10,
   "id": "going-brisbane",
   "metadata": {},
   "outputs": [
    {
     "name": "stdout",
     "output_type": "stream",
     "text": [
      "[[63964  4186]\n",
      " [ 1369 64642]]\n"
     ]
    }
   ],
   "source": [
    "matrix_model = confusion_matrix(y_test, predictions_model)\n",
    "print(matrix_model)"
   ]
  },
  {
   "cell_type": "code",
   "execution_count": 11,
   "id": "daily-eugene",
   "metadata": {},
   "outputs": [
    {
     "name": "stdout",
     "output_type": "stream",
     "text": [
      "0.9585945244892331\n"
     ]
    }
   ],
   "source": [
    "accuracy_model = accuracy_score(y_test, predictions_model)\n",
    "print(accuracy_model)"
   ]
  },
  {
   "cell_type": "code",
   "execution_count": 12,
   "id": "facial-debut",
   "metadata": {},
   "outputs": [],
   "source": [
    "tf.keras.models.save_model(model, \"models/model5.h5\", include_optimizer=False)  "
   ]
  },
  {
   "cell_type": "code",
   "execution_count": 13,
   "id": "plastic-argentina",
   "metadata": {},
   "outputs": [
    {
     "name": "stderr",
     "output_type": "stream",
     "text": [
      "D:\\PROGRAMAS\\Anaconda\\envs\\supernova\\lib\\site-packages\\tensorflow\\python\\keras\\engine\\base_layer.py:2281: UserWarning: `layer.add_variable` is deprecated and will be removed in a future version. Please use `layer.add_weight` method instead.\n",
      "  warnings.warn('`layer.add_variable` is deprecated and '\n"
     ]
    }
   ],
   "source": [
    "prune_low_magnitude = tfmot.sparsity.keras.prune_low_magnitude\n",
    "\n",
    "validation_split = 0.1\n",
    "x_train.shape[0]\n",
    "\n",
    "num_images = x_train.shape[0] * (1 - validation_split)\n",
    "end_step = np.ceil(num_images / 128).astype(np.int32) * 3\n",
    "\n",
    "pruning_params = {\n",
    "      'pruning_schedule': tfmot.sparsity.keras.PolynomialDecay(initial_sparsity=0.30, final_sparsity=0.80, begin_step=0, end_step=end_step)\n",
    "}\n",
    "\n",
    "#fazendo todo o modelo treinar com a poda\n",
    "model_for_pruning = prune_low_magnitude(model, **pruning_params)\n",
    "\n",
    "model_for_pruning.compile(optimizer='adam',loss='binary_crossentropy', metrics=['accuracy'])\n",
    "\n",
    "logdir = tempfile.mkdtemp()\n",
    "\n",
    "callbacks = [\n",
    "    tfmot.sparsity.keras.UpdatePruningStep(),\n",
    "    tfmot.sparsity.keras.PruningSummaries(log_dir=logdir),\n",
    "    EarlyStopping(monitor='val_loss', mode='min', verbose=1, patience=3),\n",
    "    ModelCheckpoint('best_model.h5', monitor='val_accuracy', mode='max', verbose=1, save_best_only=True)\n",
    "]"
   ]
  },
  {
   "cell_type": "code",
   "execution_count": 14,
   "id": "alien-labor",
   "metadata": {},
   "outputs": [
    {
     "name": "stdout",
     "output_type": "stream",
     "text": [
      "Epoch 1/30\n",
      "4892/4892 [==============================] - 1438s 293ms/step - loss: 0.1027 - accuracy: 0.9643 - val_loss: 0.1325 - val_accuracy: 0.9555\n",
      "\n",
      "Epoch 00001: val_accuracy improved from -inf to 0.95546, saving model to best_model.h5\n",
      "Epoch 2/30\n",
      "4892/4892 [==============================] - 1439s 294ms/step - loss: 0.1616 - accuracy: 0.9390 - val_loss: 0.1648 - val_accuracy: 0.9395\n",
      "\n",
      "Epoch 00002: val_accuracy did not improve from 0.95546\n",
      "Epoch 3/30\n",
      "4892/4892 [==============================] - 1437s 294ms/step - loss: 0.1872 - accuracy: 0.9314 - val_loss: 0.1565 - val_accuracy: 0.9436\n",
      "\n",
      "Epoch 00003: val_accuracy did not improve from 0.95546\n",
      "Epoch 4/30\n",
      "4892/4892 [==============================] - 1443s 295ms/step - loss: 0.1769 - accuracy: 0.9360 - val_loss: 0.1524 - val_accuracy: 0.9461\n",
      "\n",
      "Epoch 00004: val_accuracy did not improve from 0.95546\n",
      "Epoch 00004: early stopping\n"
     ]
    }
   ],
   "source": [
    "history_pruning = model_for_pruning.fit(x_train, y_train, batch_size=128, epochs=30, validation_data = (x_valid, y_valid), callbacks=callbacks)"
   ]
  },
  {
   "cell_type": "code",
   "execution_count": 15,
   "id": "altered-papua",
   "metadata": {},
   "outputs": [
    {
     "data": {
      "image/png": "[encoded data removed]",
      "text/plain": [
       "<Figure size 432x288 with 1 Axes>"
      ]
     },
     "metadata": {
      "needs_background": "light"
     },
     "output_type": "display_data"
    }
   ],
   "source": [
    "plt.figure()\n",
    "plt.plot(np.arange(0,4), history_pruning.history[\"loss\"], label=\"train_loss\")\n",
    "plt.plot(np.arange(0,4), history_pruning.history[\"val_loss\"], label=\"val_loss\")\n",
    "plt.plot(np.arange(0,4), history_pruning.history[\"accuracy\"], label=\"train_acc\")\n",
    "plt.plot(np.arange(0,4), history_pruning.history[\"val_accuracy\"], label=\"val_acc\")\n",
    "plt.title(\"Treino\")\n",
    "plt.xlabel(\"Epoch\")\n",
    "plt.ylabel(\"Loss/Accuracy\")\n",
    "plt.legend()\n",
    "plt.savefig('cnn.png', bbox_inches='tight')"
   ]
  },
  {
   "cell_type": "code",
   "execution_count": 16,
   "id": "yellow-darkness",
   "metadata": {},
   "outputs": [],
   "source": [
    "predictions_pruning = model_for_pruning.predict(x_test)\n",
    "predictions_pruning = (predictions_pruning>0.5)"
   ]
  },
  {
   "cell_type": "code",
   "execution_count": 17,
   "id": "blank-steam",
   "metadata": {},
   "outputs": [
    {
     "name": "stdout",
     "output_type": "stream",
     "text": [
      "[[64419  3731]\n",
      " [ 3576 62435]]\n"
     ]
    }
   ],
   "source": [
    "matrix_pruning = confusion_matrix(y_test, predictions_pruning)\n",
    "print(matrix_pruning)"
   ]
  },
  {
   "cell_type": "code",
   "execution_count": 18,
   "id": "assigned-robertson",
   "metadata": {},
   "outputs": [
    {
     "data": {
      "text/plain": [
       "0.9455355878384926"
      ]
     },
     "execution_count": 18,
     "metadata": {},
     "output_type": "execute_result"
    }
   ],
   "source": [
    "accuracy_pruning = accuracy_score(y_test, predictions_pruning)\n",
    "accuracy_pruning"
   ]
  },
  {
   "cell_type": "code",
   "execution_count": 19,
   "id": "interim-headquarters",
   "metadata": {},
   "outputs": [],
   "source": [
    "#strip_pruning remove parâmetros da poda que só são necessários durante o treinamento\n",
    "model_for_export = tfmot.sparsity.keras.strip_pruning(model_for_pruning)\n",
    "tf.keras.models.save_model(model_for_export, \"models/model_pruning5.h5\", include_optimizer=False)"
   ]
  },
  {
   "cell_type": "code",
   "execution_count": 20,
   "id": "interesting-tribute",
   "metadata": {},
   "outputs": [
    {
     "name": "stdout",
     "output_type": "stream",
     "text": [
      "INFO:tensorflow:Assets written to: C:\\Users\\Pichau\\AppData\\Local\\Temp\\tmpxl90kwse\\assets\n"
     ]
    }
   ],
   "source": [
    "#converte para TFlite\n",
    "converter = tf.lite.TFLiteConverter.from_keras_model(model_for_export)\n",
    "pruned_tflite_model = converter.convert()\n",
    "\n",
    "pruned_tflite_file = 'models/model_pruning5.tflite'\n",
    "\n",
    "#salva o modelo\n",
    "with open(pruned_tflite_file, 'wb') as f:\n",
    "  f.write(pruned_tflite_model)"
   ]
  },
  {
   "cell_type": "code",
   "execution_count": 21,
   "id": "computational-earth",
   "metadata": {},
   "outputs": [],
   "source": [
    "#compacta os modelos via gzip e mede o tamanho compactado\n",
    "def compacta_size(file):\n",
    "  with zipfile.ZipFile('.zip', 'w', compression=zipfile.ZIP_DEFLATED) as f:\n",
    "    f.write(file)\n",
    "  return os.path.getsize('.zip')"
   ]
  },
  {
   "cell_type": "code",
   "execution_count": 22,
   "id": "incorporate-athens",
   "metadata": {},
   "outputs": [
    {
     "name": "stdout",
     "output_type": "stream",
     "text": [
      "Tamanho do modelo: 17644996.00 bytes\n",
      "Tamanho do modelo podado: 5605078.00 bytes\n",
      "Tamanho do modelo TFlite podado e compactado: 5284670.00 bytes\n"
     ]
    }
   ],
   "source": [
    "print(\"Tamanho do modelo: %.2f bytes\" % (compacta_size(\"models/model5.h5\")))\n",
    "print(\"Tamanho do modelo podado: %.2f bytes\" % (compacta_size(\"models/model_pruning5.h5\")))\n",
    "print(\"Tamanho do modelo TFlite podado e compactado: %.2f bytes\" % (compacta_size(\"models/model_pruning5.tflite\")))"
   ]
  },
  {
   "cell_type": "code",
   "execution_count": null,
   "id": "unlimited-smart",
   "metadata": {},
   "outputs": [],
   "source": []
  },
  {
   "cell_type": "code",
   "execution_count": null,
   "id": "atomic-outreach",
   "metadata": {},
   "outputs": [],
   "source": []
  }
 ],
 "metadata": {
  "kernelspec": {
   "display_name": "Python 3",
   "language": "python",
   "name": "python3"
  },
  "language_info": {
   "codemirror_mode": {
    "name": "ipython",
    "version": 3
   },
   "file_extension": ".py",
   "mimetype": "text/x-python",
   "name": "python",
   "nbconvert_exporter": "python",
   "pygments_lexer": "ipython3",
   "version": "3.8.8"
  }
 },
 "nbformat": 4,
 "nbformat_minor": 5
}
