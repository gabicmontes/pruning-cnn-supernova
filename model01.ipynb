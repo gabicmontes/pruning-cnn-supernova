{
 "cells": [
  {
   "cell_type": "code",
   "execution_count": 1,
   "id": "clinical-suspect",
   "metadata": {},
   "outputs": [],
   "source": [
    "import pickle\n",
    "from keras.models import Sequential\n",
    "from keras.layers import Conv2D, MaxPooling2D, Flatten, Dense, Dropout\n",
    "from keras.layers.normalization import BatchNormalization\n",
    "from sklearn.model_selection import train_test_split\n",
    "from sklearn.metrics import confusion_matrix\n",
    "from sklearn.metrics import accuracy_score\n",
    "import tensorflow as tf\n",
    "import tensorflow_model_optimization as tfmot\n",
    "import numpy as np\n",
    "import tempfile\n",
    "import os\n",
    "import zipfile\n",
    "from matplotlib import pyplot as plt\n",
    "from keras.callbacks import EarlyStopping\n",
    "from keras.callbacks import ModelCheckpoint"
   ]
  },
  {
   "cell_type": "code",
   "execution_count": 2,
   "id": "supported-charge",
   "metadata": {},
   "outputs": [],
   "source": [
    "#importando a base de dados\n",
    "data = pickle.load(open(\"data/all.pkl\", \"rb\"))\n",
    "images = data[\"images\"]\n",
    "label = data[\"targets\"]"
   ]
  },
  {
   "cell_type": "code",
   "execution_count": 3,
   "id": "norman-pension",
   "metadata": {},
   "outputs": [],
   "source": [
    "#separando treino, teste e validação\n",
    "x_train, x_test, y_train, y_test = train_test_split(images, label, test_size=0.3)\n",
    "x_test, x_valid, y_test, y_valid = train_test_split(x_test, y_test, test_size=0.5)"
   ]
  },
  {
   "cell_type": "code",
   "execution_count": 4,
   "id": "damaged-glance",
   "metadata": {},
   "outputs": [],
   "source": [
    "#convertendo o formato de NCHW para NHWC\n",
    "x_train = x_train.reshape((x_train.shape[0], x_train.shape[3], x_train.shape[2], x_train.shape[1]))\n",
    "x_valid = x_valid.reshape((x_valid.shape[0], x_valid.shape[3], x_valid.shape[2], x_valid.shape[1]))\n",
    "x_test= x_test.reshape((x_test.shape[0], x_test.shape[3], x_test.shape[2], x_test.shape[1]))"
   ]
  },
  {
   "cell_type": "code",
   "execution_count": 5,
   "id": "sorted-camera",
   "metadata": {},
   "outputs": [],
   "source": [
    "#definindo parâmetros da parada antecipada\n",
    "es = EarlyStopping(monitor='val_loss', mode='min', verbose=1, patience=3)\n",
    "mc = ModelCheckpoint('best_model.h5', monitor='val_accuracy', mode='max', verbose=1, save_best_only=True)"
   ]
  },
  {
   "cell_type": "code",
   "execution_count": 6,
   "id": "experienced-place",
   "metadata": {},
   "outputs": [],
   "source": [
    "model = Sequential()  \n",
    "    \n",
    "model.add(Conv2D(16, (3,3), input_shape = (51, 51, 3), activation = 'relu'))\n",
    "model.add(BatchNormalization())\n",
    "model.add(MaxPooling2D(pool_size = (2,2), data_format='channels_last'))\n",
    "\n",
    "model.add(Flatten())\n",
    "    \n",
    "model.add(Dense(units = 128, activation = 'relu'))\n",
    "model.add(Dropout(0.2)) \n",
    "\n",
    "model.add(Dense(units = 1, activation = 'sigmoid'))\n",
    "    \n",
    "model.compile(optimizer = 'adam', loss='binary_crossentropy', metrics = ['accuracy'])"
   ]
  },
  {
   "cell_type": "code",
   "execution_count": 7,
   "id": "swedish-grant",
   "metadata": {},
   "outputs": [
    {
     "name": "stdout",
     "output_type": "stream",
     "text": [
      "Epoch 1/30\n",
      "4892/4892 [==============================] - 545s 110ms/step - loss: 0.2292 - accuracy: 0.9235 - val_loss: 0.1348 - val_accuracy: 0.9516 - loss: 0.2 -  - ETA: 5 - ETA: 46s - loss: 0.2351 - accura - ETA: 45s - loss:  - ETA: 42s - loss: 0.2345 - ac - ETA: 40s - loss: 0.2343 - accuracy: 0.9 - ETA: 40s - loss: 0.2343 - accuracy: 0.92 - ETA: 40s - loss: 0.2343 - accuracy: 0.922 - ETA: 40s - loss: 0.2343 - accuracy: 0. - ETA: 39s - loss: 0.2342 - accuracy: 0.92 - ETA: 39 - ETA: 35s - loss: 0.2337 - accuracy: 0.92 - ETA: 35s - loss: 0.2336 - accuracy: 0.922 - E - ETA: 31s - loss: 0.2331 - accuracy: 0.922 - ETA: 30s - loss: 0.2330 - accuracy: - ETA: 30s - loss: 0.2329 - accuracy: 0.92 - ETA: 29s - loss: 0.2329 - accuracy: 0.9 - ETA: 29s - loss: 0.2329 - a - ETA: 27s - loss: 0.2327 - accuracy: 0. - ETA: 27s - loss: 0.2326 - accuracy: 0 - ETA: 27s - loss: 0.2325 - accuracy: 0.9 - ETA: 26s - los - ETA: 23s - loss: 0.2321 - accuracy: 0.92 - ETA: 23s - loss: 0.2321 - accuracy: 0. - ETA: 23s - loss: 0.2320 - accuracy: 0 - ETA: 22s - loss: 0. - ETA: 19s - loss: 0.2316 - acc - ETA: 18s - loss: 0.2315 - accuracy: 0.92 - ETA: 18s - loss: 0.2314 - accuracy: 0.92 - ETA: 18s -  - ETA: 14s - loss: 0.2310 - accuracy: 0 - ETA: 14s - loss: 0.2309 - ETA: 12s - loss: 0.230 - ETA: 10s  - ETA: 8s - loss: 0.2302 - accura - ETA: 7s - loss: 0.2301 - accuracy:  - ETA: 7s - loss: 0.2301 - accuracy:  - ETA: 7s - los - ETA: 5s - loss: 0.2299 - accuracy: 0.92 - ETA: 5s - loss: 0 - ETA: 4s - loss: 0.2297 - accura - ETA: 3s - loss: 0.2296 - accu - ETA: 0s - loss: 0.2293 - ac\n",
      "\n",
      "Epoch 00001: val_accuracy improved from -inf to 0.95163, saving model to best_model.h5\n",
      "Epoch 2/30\n",
      "4892/4892 [==============================] - 516s 105ms/step - loss: 0.1299 - accuracy: 0.9533 - val_loss: 0.1315 - val_accuracy: 0.9523310 -  - ETA: 8:12 - loss: 0.1302 - accuracy:  - ETA: 8:11 - loss: 0.1301 - ac - ETA: 8: - ETA: 7:58 - loss: 0.1280 - accuracy:  - ETA: 7:58 - loss: 0.1 - ETA: 7:49 - loss: 0.1277 - accuracy - ETA: 7:48 - loss: - ETA: 7:44 - loss: 0.1278 - accuracy - ETA: 7:44 - loss: 0.1278 - accuracy:  - ETA: 7:41 - loss: 0.1278 - accura - ETA: 7:41 - - ETA: 7:37 - loss: 0.1279 - accuracy:  - ETA: 7:37 - loss: 0.1279  - ETA: 7: - ETA - ETA: 7:30 - los - ETA: 7:28 - loss: 0.1280 -  - ETA: 7:25 - loss: 0.1280 - accu - ETA: 7:24 - loss: 0.1280 - accu - ETA: 7:24 - loss: 0.1281 - accuracy: 0. - ETA: 7:24 - loss: 0.1281 - accuracy: 0. - ETA: 7:23 - ETA: 7:17 - loss: 0 - ETA: 7:16 - loss: 0.1283 - accu - ETA: 7:11 - l - ETA: 6:25 - loss: 0 - ETA - ETA: 6: - ETA: 6:20 - l - ETA: 6:19 - los - ETA: 6:15 - loss: 0.1296  - ETA: 6:14 - loss: 0.1296 - ac - ETA: 6:14 - loss: 0.1296 - accu - ETA: 6:13 - loss: 0.1296 - accuracy: 0. - ETA: 6:13 - ETA: 6:06 - loss: 0.1297 - accuracy: 0.95 - ETA: 6:06 - loss: 0.1297 - accura - ETA: 6:06 - loss: 0.1297 - accuracy - ETA: 5:59 - loss: 0.1298 - accura - ETA: 5:58 - loss: 0.1298 - accura - ETA: 5:58 - loss: 0.1298 - accuracy:  - ETA: 5:57 - ETA: 5:56 - loss: 0.1298 - ac - ETA: 5:55 - loss: - ETA: 5:54 - - ETA: 5:52 - loss: 0.1298 - accu - ETA: 5:51 - loss: 0.129 - ETA: 5:50 - loss: 0.1298 - ac - ETA: 5:50 - loss: 0.1298 - accuracy: 0. - ETA - ETA: 5:48 - loss: 0.129 - ETA:  - ETA: 5:45 - l - ETA: 5:43 - loss: 0.1299 - accuracy:  - ETA: 5:43 - loss: 0.1299 - accuracy - ETA: 5:43 - loss: 0.1299 - accuracy: 0. - ETA: 5:42 - loss: - ETA: 5:41 - loss: 0.1299 - accuracy:  - ETA: 5:41 - loss: 0.1299 - accu - ETA: 5:40 - loss: 0.1299 - accura - ETA: 5:40 - loss: 0.1299  - ETA: 5:11 - loss: 0.130 - ETA: 4:59 - l - ETA: 4:48 - loss: 0.1300 - accuracy:  - ETA: 4:48 - loss: 0.1300 - accuracy - ETA: 4:47 - loss: 0.1300 - accuracy:  - ETA: 4:47 - loss: 0.1300 - accuracy:  - ETA: 1:06 - loss: - ETA: 51s - loss: 0.1299 - accuracy: - ETA: 50s - loss: 0.1299 - accur - ET -  - ETA: 22s - loss: 0.129 - ETA: 20s - lo -\n",
      "\n",
      "Epoch 00002: val_accuracy improved from 0.95163 to 0.95228, saving model to best_model.h5\n",
      "Epoch 3/30\n",
      "4892/4892 [==============================] - 528s 108ms/step - loss: 0.1199 - accuracy: 0.9572 - val_loss: 0.1177 - val_accuracy: 0.9574: 17s - loss: 0. - ETA: 15s - loss: 0.1199 - accuracy - ETA: 14s  - ETA: 3s - los - ETA\n",
      "\n",
      "Epoch 00003: val_accuracy improved from 0.95228 to 0.95737, saving model to best_model.h5\n",
      "Epoch 4/30\n",
      "4892/4892 [==============================] - 530s 108ms/step - loss: 0.1132 - accuracy: 0.9597 - val_loss: 0.1150 - val_accuracy: 0.9589- loss: 0.1132 - a - ETA: 57s - loss: 0.1132 - accuracy: 0. - ETA: 57s - loss: 0.1132 - accuracy: 0.9 - ETA: 56s - loss: 0.1132 - ac - ETA: 55s - loss: 0.1132 -  - ETA: 48s - loss: 0.1132 - accurac - ETA: 47s - los - ETA: 44s - loss: 0.1132 - accurac - ETA: 43 - ETA: 35s - loss: 0.1132 - accura - ETA: 34s - loss: 0.1132 - accuracy: 0. - - ETA: 24s - loss: 0.1132 - a - ETA: 23s - loss: 0.1132 - accuracy:  - ETA: 22s - loss: 0. - ETA: 20s - loss: 0.1132 - accuracy: 0.9 - ETA: 19s - loss: 0.1132 - accuracy: 0.9 - ETA: 19s - - ETA: 16s - loss: 0.1132 - accu - ETA: 14s - loss: 0.1132 - accuracy: 0.9 - ETA: 14s - los - ETA - ETA: 1s -\n",
      "\n",
      "Epoch 00004: val_accuracy improved from 0.95737 to 0.95886, saving model to best_model.h5\n",
      "Epoch 5/30\n",
      "4892/4892 [==============================] - 535s 109ms/step - loss: 0.1072 - accuracy: 0.9624 - val_loss: 0.1166 - val_accuracy: 0.9591 ETA: 58s - loss: 0.1070 - accuracy:  - ETA: 57s - loss: 0.1070 - accuracy: - ETA: 57s - loss - ETA: 44s - loss: 0.1070 - accurac - ETA:  - ETA: 30s - loss: 0.1071 - accuracy: - ETA: 29s - loss: 0.1071  - ETA: 27s - loss: 0.1071 - accuracy: 0. - ETA: 27s - loss: 0.1071 - a - ETA: 25s - loss: 0.1071 - accuracy: 0. - ETA: 25s - loss: 0.1071 - - ETA: 18s - - ETA: 15s - loss: 0.1071 - accuracy: 0.96 - ETA: 14s - loss: 0.1071 -  - ETA: 13s - lo - ETA: 7s - l - ETA: 6s - l - ETA: 4s - loss: 0.1071 - accuracy: 0.96 - ETA: 4s - loss: - ETA: 2s - loss: 0.1071 - accu\n",
      "\n",
      "Epoch 00005: val_accuracy improved from 0.95886 to 0.95911, saving model to best_model.h5\n",
      "Epoch 6/30\n",
      "4892/4892 [==============================] - 540s 110ms/step - loss: 0.1027 - accuracy: 0.9638 - val_loss: 0.1152 - val_accuracy: 0.9596s: 0.1027 - accuracy: 0.9 - ETA: 29s - loss: - ETA: 21s - loss: 0.1027 - accuracy - ETA: 21s - loss: 0.1027 -  - ETA: 19s - loss: 0 - ETA: 16s - loss: 0\n",
      "\n",
      "Epoch 00006: val_accuracy improved from 0.95911 to 0.95962, saving model to best_model.h5\n",
      "Epoch 7/30\n",
      "4892/4892 [==============================] - 536s 110ms/step - loss: 0.0978 - accuracy: 0.9658 - val_loss: 0.1164 - val_accuracy: 0.9596\n",
      "\n",
      "Epoch 00007: val_accuracy did not improve from 0.95962\n",
      "Epoch 00007: early stopping\n"
     ]
    }
   ],
   "source": [
    "history = model.fit(x_train, y_train, epochs = 30, batch_size = 128, validation_data = (x_valid, y_valid),  callbacks=[es, mc])"
   ]
  },
  {
   "cell_type": "code",
   "execution_count": 9,
   "id": "bacterial-rental",
   "metadata": {},
   "outputs": [
    {
     "data": {
      "image/png": "[encoded data removed]",
      "text/plain": [
       "<Figure size 432x288 with 1 Axes>"
      ]
     },
     "metadata": {
      "needs_background": "light"
     },
     "output_type": "display_data"
    }
   ],
   "source": [
    "plt.figure()\n",
    "plt.plot(np.arange(0,7), history.history[\"loss\"], label=\"train_loss\")\n",
    "plt.plot(np.arange(0,7), history.history[\"val_loss\"], label=\"val_loss\")\n",
    "plt.plot(np.arange(0,7), history.history[\"accuracy\"], label=\"train_acc\")\n",
    "plt.plot(np.arange(0,7), history.history[\"val_accuracy\"], label=\"val_acc\")\n",
    "plt.title(\"Treino\")\n",
    "plt.xlabel(\"Epoch\")\n",
    "plt.ylabel(\"Loss/Accuracy\")\n",
    "plt.legend()\n",
    "plt.savefig('cnn.png', bbox_inches='tight')"
   ]
  },
  {
   "cell_type": "code",
   "execution_count": 10,
   "id": "powerful-subdivision",
   "metadata": {},
   "outputs": [],
   "source": [
    "predictions_model = model.predict(x_test)\n",
    "predictions_model = (predictions_model>0.5)"
   ]
  },
  {
   "cell_type": "code",
   "execution_count": 11,
   "id": "going-brisbane",
   "metadata": {},
   "outputs": [
    {
     "name": "stdout",
     "output_type": "stream",
     "text": [
      "[[64237  3741]\n",
      " [ 1586 64597]]\n"
     ]
    }
   ],
   "source": [
    "matrix_model = confusion_matrix(y_test, predictions_model)\n",
    "print(matrix_model)"
   ]
  },
  {
   "cell_type": "code",
   "execution_count": 12,
   "id": "daily-eugene",
   "metadata": {},
   "outputs": [
    {
     "name": "stdout",
     "output_type": "stream",
     "text": [
      "0.960293975149261\n"
     ]
    }
   ],
   "source": [
    "accuracy_model = accuracy_score(y_test, predictions_model)\n",
    "print(accuracy_model)"
   ]
  },
  {
   "cell_type": "code",
   "execution_count": 13,
   "id": "facial-debut",
   "metadata": {},
   "outputs": [],
   "source": [
    "tf.keras.models.save_model(model, \"models/model3.h5\", include_optimizer=False)  "
   ]
  },
  {
   "cell_type": "code",
   "execution_count": 14,
   "id": "plastic-argentina",
   "metadata": {},
   "outputs": [
    {
     "name": "stderr",
     "output_type": "stream",
     "text": [
      "D:\\PROGRAMAS\\Anaconda\\envs\\supernova\\lib\\site-packages\\tensorflow\\python\\keras\\engine\\base_layer.py:2281: UserWarning: `layer.add_variable` is deprecated and will be removed in a future version. Please use `layer.add_weight` method instead.\n",
      "  warnings.warn('`layer.add_variable` is deprecated and '\n"
     ]
    }
   ],
   "source": [
    "prune_low_magnitude = tfmot.sparsity.keras.prune_low_magnitude\n",
    "\n",
    "validation_split = 0.1\n",
    "x_train.shape[0]\n",
    "\n",
    "num_images = x_train.shape[0] * (1 - validation_split)\n",
    "end_step = np.ceil(num_images / 128).astype(np.int32) * 3\n",
    "\n",
    "pruning_params = {\n",
    "      'pruning_schedule': tfmot.sparsity.keras.PolynomialDecay(initial_sparsity=0.30, final_sparsity=0.80, begin_step=0, end_step=end_step)\n",
    "}\n",
    "\n",
    "#fazendo todo o modelo treinar com a poda\n",
    "model_for_pruning = prune_low_magnitude(model, **pruning_params)\n",
    "\n",
    "model_for_pruning.compile(optimizer='adam',loss='binary_crossentropy', metrics=['accuracy'])\n",
    "\n",
    "logdir = tempfile.mkdtemp()\n",
    "\n",
    "callbacks = [\n",
    "    tfmot.sparsity.keras.UpdatePruningStep(),\n",
    "    tfmot.sparsity.keras.PruningSummaries(log_dir=logdir),\n",
    "    EarlyStopping(monitor='val_loss', mode='min', verbose=1, patience=3),\n",
    "    ModelCheckpoint('best_model.h5', monitor='val_accuracy', mode='max', verbose=1, save_best_only=True)\n",
    "]"
   ]
  },
  {
   "cell_type": "code",
   "execution_count": 15,
   "id": "alien-labor",
   "metadata": {},
   "outputs": [
    {
     "name": "stdout",
     "output_type": "stream",
     "text": [
      "Epoch 1/30\n",
      "4892/4892 [==============================] - 552s 112ms/step - loss: 0.1064 - accuracy: 0.9626 - val_loss: 0.1287 - val_accuracy: 0.9552\n",
      "\n",
      "Epoch 00001: val_accuracy improved from -inf to 0.95521, saving model to best_model.h5\n",
      "Epoch 2/30\n",
      "4892/4892 [==============================] - 543s 111ms/step - loss: 0.1416 - accuracy: 0.9486 - val_loss: 0.1442 - val_accuracy: 0.9480\n",
      "\n",
      "Epoch 00002: val_accuracy did not improve from 0.95521\n",
      "Epoch 3/30\n",
      "4892/4892 [==============================] - 553s 113ms/step - loss: 0.1743 - accuracy: 0.9369 - val_loss: 0.1473 - val_accuracy: 0.9476\n",
      "\n",
      "Epoch 00003: val_accuracy did not improve from 0.95521\n",
      "Epoch 4/30\n",
      "4892/4892 [==============================] - 557s 114ms/step - loss: 0.1665 - accuracy: 0.9398 - val_loss: 0.1418 - val_accuracy: 0.9497\n",
      "\n",
      "Epoch 00004: val_accuracy did not improve from 0.95521\n",
      "Epoch 00004: early stopping\n"
     ]
    }
   ],
   "source": [
    "history_pruning = model_for_pruning.fit(x_train, y_train, batch_size=128, epochs=30, validation_data = (x_valid, y_valid), callbacks=callbacks)"
   ]
  },
  {
   "cell_type": "code",
   "execution_count": 16,
   "id": "altered-papua",
   "metadata": {},
   "outputs": [
    {
     "data": {
      "image/png": "[encoded data removed]",
      "text/plain": [
       "<Figure size 432x288 with 1 Axes>"
      ]
     },
     "metadata": {
      "needs_background": "light"
     },
     "output_type": "display_data"
    }
   ],
   "source": [
    "plt.figure()\n",
    "plt.plot(np.arange(0,4), history_pruning.history[\"loss\"], label=\"train_loss\")\n",
    "plt.plot(np.arange(0,4), history_pruning.history[\"val_loss\"], label=\"val_loss\")\n",
    "plt.plot(np.arange(0,4), history_pruning.history[\"accuracy\"], label=\"train_acc\")\n",
    "plt.plot(np.arange(0,4), history_pruning.history[\"val_accuracy\"], label=\"val_acc\")\n",
    "plt.title(\"Treino\")\n",
    "plt.xlabel(\"Epoch\")\n",
    "plt.ylabel(\"Loss/Accuracy\")\n",
    "plt.legend()\n",
    "plt.savefig('cnn.png', bbox_inches='tight')"
   ]
  },
  {
   "cell_type": "code",
   "execution_count": 17,
   "id": "yellow-darkness",
   "metadata": {},
   "outputs": [],
   "source": [
    "predictions_pruning = model_for_pruning.predict(x_test)\n",
    "predictions_pruning = (predictions_pruning>0.5)"
   ]
  },
  {
   "cell_type": "code",
   "execution_count": 18,
   "id": "blank-steam",
   "metadata": {},
   "outputs": [
    {
     "name": "stdout",
     "output_type": "stream",
     "text": [
      "[[64247  3731]\n",
      " [ 2871 63312]]\n"
     ]
    }
   ],
   "source": [
    "matrix_pruning = confusion_matrix(y_test, predictions_pruning)\n",
    "print(matrix_pruning)"
   ]
  },
  {
   "cell_type": "code",
   "execution_count": 19,
   "id": "assigned-robertson",
   "metadata": {},
   "outputs": [
    {
     "data": {
      "text/plain": [
       "0.9507904681688419"
      ]
     },
     "execution_count": 19,
     "metadata": {},
     "output_type": "execute_result"
    }
   ],
   "source": [
    "accuracy_pruning = accuracy_score(y_test, predictions_pruning)\n",
    "accuracy_pruning"
   ]
  },
  {
   "cell_type": "code",
   "execution_count": 20,
   "id": "interim-headquarters",
   "metadata": {},
   "outputs": [],
   "source": [
    "#strip_pruning remove parâmetros da poda que só são necessários durante o treinamento\n",
    "model_for_export = tfmot.sparsity.keras.strip_pruning(model_for_pruning)\n",
    "tf.keras.models.save_model(model_for_export, \"models/model_pruning3.h5\", include_optimizer=False)"
   ]
  },
  {
   "cell_type": "code",
   "execution_count": 21,
   "id": "interesting-tribute",
   "metadata": {},
   "outputs": [
    {
     "name": "stdout",
     "output_type": "stream",
     "text": [
      "INFO:tensorflow:Assets written to: C:\\Users\\Pichau\\AppData\\Local\\Temp\\tmpgrenx3dp\\assets\n"
     ]
    }
   ],
   "source": [
    "#converte para TFlite\n",
    "converter = tf.lite.TFLiteConverter.from_keras_model(model_for_export)\n",
    "pruned_tflite_model = converter.convert()\n",
    "\n",
    "pruned_tflite_file = 'models/model_pruning3.tflite'\n",
    "\n",
    "#salva o modelo\n",
    "with open(pruned_tflite_file, 'wb') as f:\n",
    "  f.write(pruned_tflite_model)"
   ]
  },
  {
   "cell_type": "code",
   "execution_count": 22,
   "id": "computational-earth",
   "metadata": {},
   "outputs": [],
   "source": [
    "#compacta os modelos via gzip e mede o tamanho compactado\n",
    "def compacta_size(file):\n",
    "  with zipfile.ZipFile('.zip', 'w', compression=zipfile.ZIP_DEFLATED) as f:\n",
    "    f.write(file)\n",
    "  return os.path.getsize('.zip')"
   ]
  },
  {
   "cell_type": "code",
   "execution_count": 23,
   "id": "incorporate-athens",
   "metadata": {},
   "outputs": [
    {
     "name": "stdout",
     "output_type": "stream",
     "text": [
      "Tamanho do modelo: 4414103.00 bytes\n",
      "Tamanho do modelo podado: 1399805.00 bytes\n",
      "Tamanho do modelo TFlite podado e compactado: 1340138.00 bytes\n"
     ]
    }
   ],
   "source": [
    "print(\"Tamanho do modelo: %.2f bytes\" % (compacta_size(\"models/model3.h5\")))\n",
    "print(\"Tamanho do modelo podado: %.2f bytes\" % (compacta_size(\"models/model_pruning3.h5\")))\n",
    "print(\"Tamanho do modelo TFlite podado e compactado: %.2f bytes\" % (compacta_size(\"models/model_pruning3.tflite\")))"
   ]
  },
  {
   "cell_type": "code",
   "execution_count": null,
   "id": "unlimited-smart",
   "metadata": {},
   "outputs": [],
   "source": []
  },
  {
   "cell_type": "code",
   "execution_count": null,
   "id": "atomic-outreach",
   "metadata": {},
   "outputs": [],
   "source": []
  }
 ],
 "metadata": {
  "kernelspec": {
   "display_name": "Python 3",
   "language": "python",
   "name": "python3"
  },
  "language_info": {
   "codemirror_mode": {
    "name": "ipython",
    "version": 3
   },
   "file_extension": ".py",
   "mimetype": "text/x-python",
   "name": "python",
   "nbconvert_exporter": "python",
   "pygments_lexer": "ipython3",
   "version": "3.8.8"
  }
 },
 "nbformat": 4,
 "nbformat_minor": 5
}
