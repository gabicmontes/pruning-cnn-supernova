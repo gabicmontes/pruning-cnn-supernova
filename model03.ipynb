{
 "cells": [
  {
   "cell_type": "code",
   "execution_count": 1,
   "id": "appropriate-valentine",
   "metadata": {},
   "outputs": [],
   "source": [
    "import pickle\n",
    "from keras.models import Sequential\n",
    "from keras.layers import Conv2D, MaxPooling2D, Flatten, Dense, Dropout\n",
    "from keras.layers.normalization import BatchNormalization\n",
    "from sklearn.model_selection import train_test_split\n",
    "from sklearn.metrics import confusion_matrix\n",
    "from sklearn.metrics import accuracy_score\n",
    "import tensorflow as tf\n",
    "import tensorflow_model_optimization as tfmot\n",
    "import numpy as np\n",
    "import tempfile\n",
    "import os\n",
    "import zipfile\n",
    "from matplotlib import pyplot as plt\n",
    "from keras.callbacks import EarlyStopping\n",
    "from keras.callbacks import ModelCheckpoint"
   ]
  },
  {
   "cell_type": "code",
   "execution_count": 2,
   "id": "hybrid-apollo",
   "metadata": {},
   "outputs": [],
   "source": [
    "#importando a base de dados\n",
    "data = pickle.load(open(\"data/all.pkl\", \"rb\"))\n",
    "images = data[\"images\"]\n",
    "label = data[\"targets\"]"
   ]
  },
  {
   "cell_type": "code",
   "execution_count": 3,
   "id": "dressed-liability",
   "metadata": {},
   "outputs": [],
   "source": [
    "#separando treino, teste e validação\n",
    "x_train, x_test, y_train, y_test = train_test_split(images, label, test_size=0.3)\n",
    "x_test, x_valid, y_test, y_valid = train_test_split(x_test, y_test, test_size=0.5)"
   ]
  },
  {
   "cell_type": "code",
   "execution_count": 4,
   "id": "improved-revision",
   "metadata": {},
   "outputs": [],
   "source": [
    "#convertendo o formato de NCHW para NHWC\n",
    "x_train = x_train.reshape((x_train.shape[0], x_train.shape[3], x_train.shape[2], x_train.shape[1]))\n",
    "x_valid = x_valid.reshape((x_valid.shape[0], x_valid.shape[3], x_valid.shape[2], x_valid.shape[1]))\n",
    "x_test= x_test.reshape((x_test.shape[0], x_test.shape[3], x_test.shape[2], x_test.shape[1]))"
   ]
  },
  {
   "cell_type": "code",
   "execution_count": 5,
   "id": "assigned-president",
   "metadata": {},
   "outputs": [],
   "source": [
    "#definindo parâmetros da parada antecipada\n",
    "es = EarlyStopping(monitor='val_loss', mode='min', verbose=1, patience=3)\n",
    "mc = ModelCheckpoint('best_model.h5', monitor='val_accuracy', mode='max', verbose=1, save_best_only=True)"
   ]
  },
  {
   "cell_type": "code",
   "execution_count": 6,
   "id": "russian-mother",
   "metadata": {},
   "outputs": [],
   "source": [
    "model = Sequential()  \n",
    "    \n",
    "model.add(Conv2D(32, (3,3), input_shape = (51, 51, 3), activation = 'relu'))\n",
    "model.add(BatchNormalization())\n",
    "model.add(MaxPooling2D(pool_size = (2,2), data_format='channels_last'))\n",
    "            \n",
    "model.add(Flatten())\n",
    "    \n",
    "model.add(Dense(units = 128, activation = 'relu'))\n",
    "model.add(Dropout(0.2)) \n",
    "\n",
    "model.add(Dense(units = 1, activation = 'sigmoid'))\n",
    "    \n",
    "model.compile(optimizer = 'adam', loss='binary_crossentropy', metrics = ['accuracy'])"
   ]
  },
  {
   "cell_type": "code",
   "execution_count": 7,
   "id": "numerical-turner",
   "metadata": {},
   "outputs": [
    {
     "name": "stdout",
     "output_type": "stream",
     "text": [
      "Epoch 1/30\n",
      "4892/4892 [==============================] - 797s 162ms/step - loss: 0.2408 - accuracy: 0.9259 - val_loss: 0.1299 - val_accuracy: 0.9534\n",
      "\n",
      "Epoch 00001: val_accuracy improved from -inf to 0.95337, saving model to best_model.h5\n",
      "Epoch 2/30\n",
      "4892/4892 [==============================] - 730s 149ms/step - loss: 0.1321 - accuracy: 0.9531 - val_loss: 0.1271 - val_accuracy: 0.9558\n",
      "\n",
      "Epoch 00002: val_accuracy improved from 0.95337 to 0.95577, saving model to best_model.h5\n",
      "Epoch 3/30\n",
      "4892/4892 [==============================] - 746s 153ms/step - loss: 0.1212 - accuracy: 0.9575 - val_loss: 0.1167 - val_accuracy: 0.9584\n",
      "\n",
      "Epoch 00003: val_accuracy improved from 0.95577 to 0.95839, saving model to best_model.h5\n",
      "Epoch 4/30\n",
      "4892/4892 [==============================] - 752s 154ms/step - loss: 0.1145 - accuracy: 0.9604 - val_loss: 0.1138 - val_accuracy: 0.9600\n",
      "\n",
      "Epoch 00004: val_accuracy improved from 0.95839 to 0.95997, saving model to best_model.h5\n",
      "Epoch 5/30\n",
      "4892/4892 [==============================] - 758s 155ms/step - loss: 0.1086 - accuracy: 0.9618 - val_loss: 0.1132 - val_accuracy: 0.9608\n",
      "\n",
      "Epoch 00005: val_accuracy improved from 0.95997 to 0.96085, saving model to best_model.h5\n",
      "Epoch 6/30\n",
      "4892/4892 [==============================] - 750s 153ms/step - loss: 0.1018 - accuracy: 0.9642 - val_loss: 0.1197 - val_accuracy: 0.9585\n",
      "\n",
      "Epoch 00006: val_accuracy did not improve from 0.96085\n",
      "Epoch 7/30\n",
      "4892/4892 [==============================] - 755s 154ms/step - loss: 0.0990 - accuracy: 0.9654 - val_loss: 0.1167 - val_accuracy: 0.9601\n",
      "\n",
      "Epoch 00007: val_accuracy did not improve from 0.96085\n",
      "Epoch 8/30\n",
      "4892/4892 [==============================] - 753s 154ms/step - loss: 0.0954 - accuracy: 0.9662 - val_loss: 0.1249 - val_accuracy: 0.9555\n",
      "\n",
      "Epoch 00008: val_accuracy did not improve from 0.96085\n",
      "Epoch 9/30\n",
      "4892/4892 [==============================] - 747s 153ms/step - loss: 0.0937 - accuracy: 0.9675 - val_loss: 0.1204 - val_accuracy: 0.9607\n",
      "\n",
      "Epoch 00009: val_accuracy did not improve from 0.96085\n",
      "Epoch 00009: early stopping\n"
     ]
    }
   ],
   "source": [
    "history = model.fit(x_train, y_train, epochs = 30, batch_size = 128, validation_data = (x_valid, y_valid),  callbacks=[es, mc])"
   ]
  },
  {
   "cell_type": "code",
   "execution_count": 8,
   "id": "decent-softball",
   "metadata": {},
   "outputs": [
    {
     "data": {
      "image/png": "[encoded data removed]",
      "text/plain": [
       "<Figure size 432x288 with 1 Axes>"
      ]
     },
     "metadata": {
      "needs_background": "light"
     },
     "output_type": "display_data"
    }
   ],
   "source": [
    "plt.figure()\n",
    "plt.plot(np.arange(0,9), history.history[\"loss\"], label=\"train_loss\")\n",
    "plt.plot(np.arange(0,9), history.history[\"val_loss\"], label=\"val_loss\")\n",
    "plt.plot(np.arange(0,9), history.history[\"accuracy\"], label=\"train_acc\")\n",
    "plt.plot(np.arange(0,9), history.history[\"val_accuracy\"], label=\"val_acc\")\n",
    "plt.title(\"Treino\")\n",
    "plt.xlabel(\"Epoch\")\n",
    "plt.ylabel(\"Loss/Accuracy\")\n",
    "plt.legend()\n",
    "plt.savefig('cnn.png', bbox_inches='tight')"
   ]
  },
  {
   "cell_type": "code",
   "execution_count": 9,
   "id": "interested-integration",
   "metadata": {},
   "outputs": [],
   "source": [
    "predictions_model = model.predict(x_test)\n",
    "predictions_model = (predictions_model>0.5)"
   ]
  },
  {
   "cell_type": "code",
   "execution_count": 10,
   "id": "egyptian-glasgow",
   "metadata": {},
   "outputs": [
    {
     "name": "stdout",
     "output_type": "stream",
     "text": [
      "[[65122  3057]\n",
      " [ 2150 63832]]\n"
     ]
    }
   ],
   "source": [
    "matrix_model = confusion_matrix(y_test, predictions_model)\n",
    "print(matrix_model)"
   ]
  },
  {
   "cell_type": "code",
   "execution_count": 11,
   "id": "bright-korean",
   "metadata": {},
   "outputs": [
    {
     "name": "stdout",
     "output_type": "stream",
     "text": [
      "0.9611884228650651\n"
     ]
    }
   ],
   "source": [
    "accuracy_model = accuracy_score(y_test, predictions_model)\n",
    "print(accuracy_model)"
   ]
  },
  {
   "cell_type": "code",
   "execution_count": 12,
   "id": "convenient-indian",
   "metadata": {},
   "outputs": [],
   "source": [
    "tf.keras.models.save_model(model, \"models/model.h5\", include_optimizer=False)  "
   ]
  },
  {
   "cell_type": "code",
   "execution_count": 16,
   "id": "bigger-radical",
   "metadata": {},
   "outputs": [],
   "source": [
    "prune_low_magnitude = tfmot.sparsity.keras.prune_low_magnitude\n",
    "\n",
    "validation_split = 0.1\n",
    "x_train.shape[0]\n",
    "\n",
    "num_images = x_train.shape[0] * (1 - validation_split)\n",
    "end_step = np.ceil(num_images / 128).astype(np.int32) * 3\n",
    "\n",
    "pruning_params = {\n",
    "      'pruning_schedule': tfmot.sparsity.keras.PolynomialDecay(initial_sparsity=0.30, final_sparsity=0.80, begin_step=0, end_step=end_step)\n",
    "}\n",
    "\n",
    "#fazendo todo o modelo treinar com a poda\n",
    "model_for_pruning = prune_low_magnitude(model, **pruning_params)\n",
    "\n",
    "model_for_pruning.compile(optimizer='adam',loss='binary_crossentropy', metrics=['accuracy'])\n",
    "\n",
    "logdir = tempfile.mkdtemp()\n",
    "\n",
    "callbacks = [\n",
    "    tfmot.sparsity.keras.UpdatePruningStep(),\n",
    "    tfmot.sparsity.keras.PruningSummaries(log_dir=logdir),\n",
    "    EarlyStopping(monitor='val_loss', mode='min', verbose=1, patience=3),\n",
    "    ModelCheckpoint('best_model.h5', monitor='val_accuracy', mode='max', verbose=1, save_best_only=True)\n",
    "]"
   ]
  },
  {
   "cell_type": "code",
   "execution_count": 17,
   "id": "prospective-scene",
   "metadata": {},
   "outputs": [
    {
     "name": "stdout",
     "output_type": "stream",
     "text": [
      "Epoch 1/30\n",
      "   6/4892 [..............................] - ETA: 30:53 - loss: 0.2857 - accuracy: 0.9123WARNING:tensorflow:Callback method `on_train_batch_end` is slow compared to the batch time (batch time: 0.1469s vs `on_train_batch_end` time: 0.1911s). Check your callbacks.\n",
      "4892/4892 [==============================] - 798s 163ms/step - loss: 0.1167 - accuracy: 0.9583 - val_loss: 0.1208 - val_accuracy: 0.9598\n",
      "\n",
      "Epoch 00001: val_accuracy improved from -inf to 0.95982, saving model to best_model.h5\n",
      "Epoch 2/30\n",
      "4892/4892 [==============================] - 795s 163ms/step - loss: 0.1086 - accuracy: 0.9607 - val_loss: 0.1254 - val_accuracy: 0.9569\n",
      "\n",
      "Epoch 00002: val_accuracy did not improve from 0.95982\n",
      "Epoch 3/30\n",
      "4892/4892 [==============================] - 793s 162ms/step - loss: 0.1100 - accuracy: 0.9604 - val_loss: 0.1289 - val_accuracy: 0.9590\n",
      "\n",
      "Epoch 00003: val_accuracy did not improve from 0.95982\n",
      "Epoch 4/30\n",
      "4892/4892 [==============================] - 785s 160ms/step - loss: 0.1053 - accuracy: 0.9623 - val_loss: 0.1307 - val_accuracy: 0.9590\n",
      "\n",
      "Epoch 00004: val_accuracy did not improve from 0.95982\n",
      "Epoch 00004: early stopping\n"
     ]
    }
   ],
   "source": [
    "history_pruning = model_for_pruning.fit(x_train, y_train, batch_size=128, epochs=30, validation_data = (x_valid, y_valid), callbacks=callbacks)"
   ]
  },
  {
   "cell_type": "code",
   "execution_count": 18,
   "id": "signed-relay",
   "metadata": {},
   "outputs": [
    {
     "data": {
      "image/png": "[encoded data removed]",
      "text/plain": [
       "<Figure size 432x288 with 1 Axes>"
      ]
     },
     "metadata": {
      "needs_background": "light"
     },
     "output_type": "display_data"
    }
   ],
   "source": [
    "plt.figure()\n",
    "plt.plot(np.arange(0,4), history_pruning.history[\"loss\"], label=\"train_loss\")\n",
    "plt.plot(np.arange(0,4), history_pruning.history[\"val_loss\"], label=\"val_loss\")\n",
    "plt.plot(np.arange(0,4), history_pruning.history[\"accuracy\"], label=\"train_acc\")\n",
    "plt.plot(np.arange(0,4), history_pruning.history[\"val_accuracy\"], label=\"val_acc\")\n",
    "plt.title(\"Treino\")\n",
    "plt.xlabel(\"Epoch\")\n",
    "plt.ylabel(\"Loss/Accuracy\")\n",
    "plt.legend()\n",
    "plt.savefig('cnn.png', bbox_inches='tight')"
   ]
  },
  {
   "cell_type": "code",
   "execution_count": 19,
   "id": "limited-attack",
   "metadata": {},
   "outputs": [],
   "source": [
    "predictions_pruning = model_for_pruning.predict(x_test)\n",
    "predictions_pruning = (predictions_pruning>0.5)"
   ]
  },
  {
   "cell_type": "code",
   "execution_count": 20,
   "id": "political-noise",
   "metadata": {},
   "outputs": [
    {
     "name": "stdout",
     "output_type": "stream",
     "text": [
      "[[65123  3056]\n",
      " [ 2457 63525]]\n"
     ]
    }
   ],
   "source": [
    "matrix_pruning = confusion_matrix(y_test, predictions_pruning)\n",
    "print(matrix_pruning)"
   ]
  },
  {
   "cell_type": "code",
   "execution_count": 21,
   "id": "blank-theta",
   "metadata": {},
   "outputs": [
    {
     "data": {
      "text/plain": [
       "0.9589075811897645"
      ]
     },
     "execution_count": 21,
     "metadata": {},
     "output_type": "execute_result"
    }
   ],
   "source": [
    "accuracy_pruning = accuracy_score(y_test, predictions_pruning)\n",
    "accuracy_pruning"
   ]
  },
  {
   "cell_type": "code",
   "execution_count": 22,
   "id": "beneficial-duplicate",
   "metadata": {},
   "outputs": [],
   "source": [
    "#strip_pruning remove parâmetros da poda que só são necessários durante o treinamento\n",
    "model_for_export = tfmot.sparsity.keras.strip_pruning(model_for_pruning)\n",
    "tf.keras.models.save_model(model_for_export, \"models/model_pruning.h5\", include_optimizer=False)"
   ]
  },
  {
   "cell_type": "code",
   "execution_count": 23,
   "id": "genetic-plain",
   "metadata": {},
   "outputs": [
    {
     "name": "stdout",
     "output_type": "stream",
     "text": [
      "INFO:tensorflow:Assets written to: C:\\Users\\Pichau\\AppData\\Local\\Temp\\tmpdk6ohxfr\\assets\n"
     ]
    }
   ],
   "source": [
    "#converte para TFlite\n",
    "converter = tf.lite.TFLiteConverter.from_keras_model(model_for_export)\n",
    "pruned_tflite_model = converter.convert()\n",
    "\n",
    "pruned_tflite_file = 'models/model_pruning.tflite'\n",
    "\n",
    "#salva o modelo\n",
    "with open(pruned_tflite_file, 'wb') as f:\n",
    "  f.write(pruned_tflite_model)"
   ]
  },
  {
   "cell_type": "code",
   "execution_count": 24,
   "id": "fitted-recognition",
   "metadata": {},
   "outputs": [],
   "source": [
    "#compacta os modelos via gzip e mede o tamanho compactado\n",
    "def compacta_size(file):\n",
    "  with zipfile.ZipFile('.zip', 'w', compression=zipfile.ZIP_DEFLATED) as f:\n",
    "    f.write(file)\n",
    "  return os.path.getsize('.zip')"
   ]
  },
  {
   "cell_type": "code",
   "execution_count": 25,
   "id": "creative-reverse",
   "metadata": {},
   "outputs": [
    {
     "name": "stdout",
     "output_type": "stream",
     "text": [
      "Tamanho do modelo: 8804758.00 bytes\n",
      "Tamanho do modelo podado: 2803961.00 bytes\n",
      "Tamanho do modelo TFlite podado e compactado: 2691292.00 bytes\n"
     ]
    }
   ],
   "source": [
    "print(\"Tamanho do modelo: %.2f bytes\" % (compacta_size(\"models/model.h5\")))\n",
    "print(\"Tamanho do modelo podado: %.2f bytes\" % (compacta_size(\"models/model_pruning.h5\")))\n",
    "print(\"Tamanho do modelo TFlite podado e compactado: %.2f bytes\" % (compacta_size(\"models/model_pruning.tflite\")))"
   ]
  },
  {
   "cell_type": "code",
   "execution_count": null,
   "id": "refined-premium",
   "metadata": {},
   "outputs": [],
   "source": []
  },
  {
   "cell_type": "code",
   "execution_count": null,
   "id": "binary-australian",
   "metadata": {},
   "outputs": [],
   "source": []
  }
 ],
 "metadata": {
  "kernelspec": {
   "display_name": "Python 3",
   "language": "python",
   "name": "python3"
  },
  "language_info": {
   "codemirror_mode": {
    "name": "ipython",
    "version": 3
   },
   "file_extension": ".py",
   "mimetype": "text/x-python",
   "name": "python",
   "nbconvert_exporter": "python",
   "pygments_lexer": "ipython3",
   "version": "3.8.8"
  }
 },
 "nbformat": 4,
 "nbformat_minor": 5
}
